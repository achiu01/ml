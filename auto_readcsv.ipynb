{
 "cells": [
  {
   "cell_type": "code",
   "execution_count": 1,
   "metadata": {
    "collapsed": false
   },
   "outputs": [
    {
     "name": "stderr",
     "output_type": "stream",
     "text": [
      "/Users/ailinchiu/anaconda/lib/python3.6/site-packages/sklearn/cross_validation.py:44: DeprecationWarning: This module was deprecated in version 0.18 in favor of the model_selection module into which all the refactored classes and functions are moved. Also note that the interface of the new CV iterators are different from that of this module. This module will be removed in 0.20.\n",
      "  \"This module will be removed in 0.20.\", DeprecationWarning)\n"
     ]
    }
   ],
   "source": [
    "import matplotlib.pyplot as plt\n",
    "import numpy as np\n",
    "from sklearn import datasets, linear_model\n",
    "import pandas as pd\n",
    "from pandas import DataFrame, Series\n",
    "from __future__ import division\n",
    "import seaborn as sns\n",
    "from sklearn.cross_validation import train_test_split\n",
    "sns.set(style='ticks', palette='Set2')\n",
    "%matplotlib inline"
   ]
  },
  {
   "cell_type": "code",
   "execution_count": 3,
   "metadata": {
    "collapsed": true
   },
   "outputs": [],
   "source": [
    "\n",
    "data = pd.read_csv(\"http://archive.ics.uci.edu/ml/machine-learning-databases/auto-mpg/auto-mpg.data-original\",\n",
    "                   delim_whitespace = True, header=None,\n",
    "                   names = ['mpg', 'cylinders', 'displacement', 'horsepower', 'weight', 'acceleration',\n",
    "                            'model', 'origin', 'car_name'])"
   ]
  },
  {
   "cell_type": "code",
   "execution_count": 4,
   "metadata": {
    "collapsed": false
   },
   "outputs": [
    {
     "name": "stdout",
     "output_type": "stream",
     "text": [
      "(406, 9)\n"
     ]
    }
   ],
   "source": [
    "print(data.shape)"
   ]
  },
  {
   "cell_type": "code",
   "execution_count": 6,
   "metadata": {
    "collapsed": true
   },
   "outputs": [],
   "source": [
    "data = data.dropna()"
   ]
  },
  {
   "cell_type": "code",
   "execution_count": 7,
   "metadata": {
    "collapsed": false
   },
   "outputs": [
    {
     "data": {
      "text/plain": [
       "<bound method NDFrame.head of       mpg  cylinders  displacement  horsepower  weight  acceleration  model  \\\n",
       "0    18.0        8.0         307.0       130.0  3504.0          12.0   70.0   \n",
       "1    15.0        8.0         350.0       165.0  3693.0          11.5   70.0   \n",
       "2    18.0        8.0         318.0       150.0  3436.0          11.0   70.0   \n",
       "3    16.0        8.0         304.0       150.0  3433.0          12.0   70.0   \n",
       "4    17.0        8.0         302.0       140.0  3449.0          10.5   70.0   \n",
       "5    15.0        8.0         429.0       198.0  4341.0          10.0   70.0   \n",
       "6    14.0        8.0         454.0       220.0  4354.0           9.0   70.0   \n",
       "7    14.0        8.0         440.0       215.0  4312.0           8.5   70.0   \n",
       "8    14.0        8.0         455.0       225.0  4425.0          10.0   70.0   \n",
       "9    15.0        8.0         390.0       190.0  3850.0           8.5   70.0   \n",
       "15   15.0        8.0         383.0       170.0  3563.0          10.0   70.0   \n",
       "16   14.0        8.0         340.0       160.0  3609.0           8.0   70.0   \n",
       "18   15.0        8.0         400.0       150.0  3761.0           9.5   70.0   \n",
       "19   14.0        8.0         455.0       225.0  3086.0          10.0   70.0   \n",
       "20   24.0        4.0         113.0        95.0  2372.0          15.0   70.0   \n",
       "21   22.0        6.0         198.0        95.0  2833.0          15.5   70.0   \n",
       "22   18.0        6.0         199.0        97.0  2774.0          15.5   70.0   \n",
       "23   21.0        6.0         200.0        85.0  2587.0          16.0   70.0   \n",
       "24   27.0        4.0          97.0        88.0  2130.0          14.5   70.0   \n",
       "25   26.0        4.0          97.0        46.0  1835.0          20.5   70.0   \n",
       "26   25.0        4.0         110.0        87.0  2672.0          17.5   70.0   \n",
       "27   24.0        4.0         107.0        90.0  2430.0          14.5   70.0   \n",
       "28   25.0        4.0         104.0        95.0  2375.0          17.5   70.0   \n",
       "29   26.0        4.0         121.0       113.0  2234.0          12.5   70.0   \n",
       "30   21.0        6.0         199.0        90.0  2648.0          15.0   70.0   \n",
       "31   10.0        8.0         360.0       215.0  4615.0          14.0   70.0   \n",
       "32   10.0        8.0         307.0       200.0  4376.0          15.0   70.0   \n",
       "33   11.0        8.0         318.0       210.0  4382.0          13.5   70.0   \n",
       "34    9.0        8.0         304.0       193.0  4732.0          18.5   70.0   \n",
       "35   27.0        4.0          97.0        88.0  2130.0          14.5   71.0   \n",
       "..    ...        ...           ...         ...     ...           ...    ...   \n",
       "375  28.0        4.0         112.0        88.0  2605.0          19.6   82.0   \n",
       "376  27.0        4.0         112.0        88.0  2640.0          18.6   82.0   \n",
       "377  34.0        4.0         112.0        88.0  2395.0          18.0   82.0   \n",
       "378  31.0        4.0         112.0        85.0  2575.0          16.2   82.0   \n",
       "379  29.0        4.0         135.0        84.0  2525.0          16.0   82.0   \n",
       "380  27.0        4.0         151.0        90.0  2735.0          18.0   82.0   \n",
       "381  24.0        4.0         140.0        92.0  2865.0          16.4   82.0   \n",
       "383  36.0        4.0         105.0        74.0  1980.0          15.3   82.0   \n",
       "384  37.0        4.0          91.0        68.0  2025.0          18.2   82.0   \n",
       "385  31.0        4.0          91.0        68.0  1970.0          17.6   82.0   \n",
       "386  38.0        4.0         105.0        63.0  2125.0          14.7   82.0   \n",
       "387  36.0        4.0          98.0        70.0  2125.0          17.3   82.0   \n",
       "388  36.0        4.0         120.0        88.0  2160.0          14.5   82.0   \n",
       "389  36.0        4.0         107.0        75.0  2205.0          14.5   82.0   \n",
       "390  34.0        4.0         108.0        70.0  2245.0          16.9   82.0   \n",
       "391  38.0        4.0          91.0        67.0  1965.0          15.0   82.0   \n",
       "392  32.0        4.0          91.0        67.0  1965.0          15.7   82.0   \n",
       "393  38.0        4.0          91.0        67.0  1995.0          16.2   82.0   \n",
       "394  25.0        6.0         181.0       110.0  2945.0          16.4   82.0   \n",
       "395  38.0        6.0         262.0        85.0  3015.0          17.0   82.0   \n",
       "396  26.0        4.0         156.0        92.0  2585.0          14.5   82.0   \n",
       "397  22.0        6.0         232.0       112.0  2835.0          14.7   82.0   \n",
       "398  32.0        4.0         144.0        96.0  2665.0          13.9   82.0   \n",
       "399  36.0        4.0         135.0        84.0  2370.0          13.0   82.0   \n",
       "400  27.0        4.0         151.0        90.0  2950.0          17.3   82.0   \n",
       "401  27.0        4.0         140.0        86.0  2790.0          15.6   82.0   \n",
       "402  44.0        4.0          97.0        52.0  2130.0          24.6   82.0   \n",
       "403  32.0        4.0         135.0        84.0  2295.0          11.6   82.0   \n",
       "404  28.0        4.0         120.0        79.0  2625.0          18.6   82.0   \n",
       "405  31.0        4.0         119.0        82.0  2720.0          19.4   82.0   \n",
       "\n",
       "     origin                           car_name  \n",
       "0       1.0          chevrolet chevelle malibu  \n",
       "1       1.0                  buick skylark 320  \n",
       "2       1.0                 plymouth satellite  \n",
       "3       1.0                      amc rebel sst  \n",
       "4       1.0                        ford torino  \n",
       "5       1.0                   ford galaxie 500  \n",
       "6       1.0                   chevrolet impala  \n",
       "7       1.0                  plymouth fury iii  \n",
       "8       1.0                   pontiac catalina  \n",
       "9       1.0                 amc ambassador dpl  \n",
       "15      1.0                dodge challenger se  \n",
       "16      1.0                 plymouth 'cuda 340  \n",
       "18      1.0              chevrolet monte carlo  \n",
       "19      1.0            buick estate wagon (sw)  \n",
       "20      3.0              toyota corona mark ii  \n",
       "21      1.0                    plymouth duster  \n",
       "22      1.0                         amc hornet  \n",
       "23      1.0                      ford maverick  \n",
       "24      3.0                       datsun pl510  \n",
       "25      2.0       volkswagen 1131 deluxe sedan  \n",
       "26      2.0                        peugeot 504  \n",
       "27      2.0                        audi 100 ls  \n",
       "28      2.0                           saab 99e  \n",
       "29      2.0                           bmw 2002  \n",
       "30      1.0                        amc gremlin  \n",
       "31      1.0                          ford f250  \n",
       "32      1.0                          chevy c20  \n",
       "33      1.0                         dodge d200  \n",
       "34      1.0                           hi 1200d  \n",
       "35      3.0                       datsun pl510  \n",
       "..      ...                                ...  \n",
       "375     1.0                 chevrolet cavalier  \n",
       "376     1.0           chevrolet cavalier wagon  \n",
       "377     1.0          chevrolet cavalier 2-door  \n",
       "378     1.0         pontiac j2000 se hatchback  \n",
       "379     1.0                     dodge aries se  \n",
       "380     1.0                    pontiac phoenix  \n",
       "381     1.0               ford fairmont futura  \n",
       "383     2.0                volkswagen rabbit l  \n",
       "384     3.0                 mazda glc custom l  \n",
       "385     3.0                   mazda glc custom  \n",
       "386     1.0             plymouth horizon miser  \n",
       "387     1.0                     mercury lynx l  \n",
       "388     3.0                   nissan stanza xe  \n",
       "389     3.0                       honda accord  \n",
       "390     3.0                     toyota corolla  \n",
       "391     3.0                        honda civic  \n",
       "392     3.0                 honda civic (auto)  \n",
       "393     3.0                      datsun 310 gx  \n",
       "394     1.0              buick century limited  \n",
       "395     1.0  oldsmobile cutlass ciera (diesel)  \n",
       "396     1.0         chrysler lebaron medallion  \n",
       "397     1.0                     ford granada l  \n",
       "398     3.0                   toyota celica gt  \n",
       "399     1.0                  dodge charger 2.2  \n",
       "400     1.0                   chevrolet camaro  \n",
       "401     1.0                    ford mustang gl  \n",
       "402     2.0                          vw pickup  \n",
       "403     1.0                      dodge rampage  \n",
       "404     1.0                        ford ranger  \n",
       "405     1.0                         chevy s-10  \n",
       "\n",
       "[392 rows x 9 columns]>"
      ]
     },
     "execution_count": 7,
     "metadata": {},
     "output_type": "execute_result"
    }
   ],
   "source": [
    "data.head"
   ]
  }
 ],
 "metadata": {
  "kernelspec": {
   "display_name": "Python 3",
   "language": "python",
   "name": "python3"
  },
  "language_info": {
   "codemirror_mode": {
    "name": "ipython",
    "version": 3
   },
   "file_extension": ".py",
   "mimetype": "text/x-python",
   "name": "python",
   "nbconvert_exporter": "python",
   "pygments_lexer": "ipython3",
   "version": "3.6.0"
  }
 },
 "nbformat": 4,
 "nbformat_minor": 2
}
